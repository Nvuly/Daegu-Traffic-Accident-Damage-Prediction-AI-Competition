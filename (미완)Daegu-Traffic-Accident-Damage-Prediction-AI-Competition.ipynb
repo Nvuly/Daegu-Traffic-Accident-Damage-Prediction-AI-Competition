{
 "cells": [
  {
   "cell_type": "markdown",
   "metadata": {},
   "source": [
    "# Objective \n",
    "- 교통사고의 원인을 규명하고 사고율을 낮추기 위해, \n",
    "\n",
    "시공간 정보로부터 사고위험도(ECLO)를 예측\n",
    "\n",
    "- ※ ECLO(Equivalent Casualty Loss Only) : 인명피해 심각도\n",
    "\n",
    "ECLO = 사망자수 * 10 + 중상자수 * 5 + 경상자수 * 3 + 부상자수 * 1\n",
    "본 대회에서는 사고의 위험도를 인명피해 심각도로 측정"
   ]
  },
  {
   "cell_type": "markdown",
   "metadata": {},
   "source": [
    "## Import"
   ]
  },
  {
   "cell_type": "code",
   "execution_count": 26,
   "metadata": {},
   "outputs": [],
   "source": [
    "import numpy as np\n",
    "import pandas as pd\n",
    "#ㅡㅡㅡㅡㅡㅡㅡㅡㅡㅡㅡㅡㅡㅡㅡㅡㅡㅡㅡㅡㅡㅡㅡㅡㅡ\n",
    "import random\n",
    "import os\n",
    "import gc\n",
    "\n",
    "from sklearn.ensemble import RandomForestClassifier\n",
    "from sklearn.preprocessing import LabelEncoder\n",
    "#ㅡㅡㅡㅡㅡㅡㅡㅡㅡㅡㅡㅡㅡㅡㅡㅡㅡㅡㅡㅡㅡㅡㅡㅡㅡ\n",
    "import requests\n",
    "from bs4 import BeautifulSoup\n",
    "import matplotlib.pyplot as plt\n",
    "import seaborn as sns\n",
    "from sklearn.model_selection import GridSearchCV\n",
    "from sklearn.model_selection import train_test_split\n",
    "from sklearn.metrics import accuracy_score, f1_score, precision_score, recall_score\n",
    "from sklearn.metrics.pairwise import linear_kernel\n",
    "from sklearn.tree import DecisionTreeClassifier\n",
    "from sklearn.linear_model import LinearRegression\n",
    "from lightgbm import LGBMClassifier\n",
    "# ㅡㅡㅡㅡㅡㅡㅡㅡㅡㅡㅡㅡㅡㅡㅡㅡㅡㅡㅡㅡㅡㅡㅡㅡㅡㅡㅡㅡㅡㅡㅡㅡㅡㅡㅡㅡㅡㅡㅡㅡㅡㅡㅡㅡㅡㅡㅡ\n",
    "import tensorflow as tf\n",
    "from transformers import pipeline, set_seed, BertTokenizer, TFBertForSequenceClassification\n",
    "# ㅡㅡㅡㅡㅡㅡㅡㅡㅡㅡㅡㅡㅡㅡㅡㅡㅡㅡㅡㅡㅡㅡㅡㅡㅡㅡㅡㅡㅡㅡㅡㅡㅡㅡㅡㅡㅡㅡㅡㅡㅡㅡㅡㅡㅡㅡㅡ\n",
    "import re\n",
    "import nltk \n",
    "from nltk.corpus import stopwords\n",
    "# ㅡㅡㅡㅡㅡㅡㅡㅡㅡㅡㅡㅡㅡㅡㅡㅡㅡㅡㅡㅡㅡㅡㅡㅡㅡㅡㅡㅡㅡㅡㅡㅡㅡㅡㅡㅡㅡㅡㅡㅡㅡㅡㅡㅡㅡㅡㅡ\n",
    "from sentence_transformers import SentenceTransformer\n"
   ]
  },
  {
   "cell_type": "markdown",
   "metadata": {},
   "source": [
    "#### hiddencell"
   ]
  },
  {
   "cell_type": "markdown",
   "metadata": {},
   "source": []
  },
  {
   "cell_type": "markdown",
   "metadata": {},
   "source": [
    "## Fixed Random Seed\n",
    "- Seed값에 의해 동일한 코드를 사용해도 결과가 다를 수 있기에, 동일한 결과를 위해 seed 값을 고정시킴"
   ]
  },
  {
   "cell_type": "code",
   "execution_count": 27,
   "metadata": {},
   "outputs": [],
   "source": [
    "import os\n",
    "import random\n",
    "import numpy as np\n",
    "\n",
    "def seed_everything(seed):\n",
    "    tf.random.set_seed(seed)\n",
    "    np.random.seed(seed)\n",
    "    random.seed(seed)\n",
    "    \n",
    "    seed_everything(42)"
   ]
  },
  {
   "cell_type": "markdown",
   "metadata": {},
   "source": [
    "## Load Data\n",
    "- train.csv, test.csv 로드해 상위행 출력"
   ]
  },
  {
   "cell_type": "code",
   "execution_count": 28,
   "metadata": {},
   "outputs": [
    {
     "name": "stdout",
     "output_type": "stream",
     "text": [
      "학습용 데이터 : \n",
      "                   ID           사고일시   요일 기상상태              시군구  \\\n",
      "0      ACCIDENT_00000  2019-01-01 00  화요일   맑음     대구광역시 중구 대신동   \n",
      "1      ACCIDENT_00001  2019-01-01 00  화요일   흐림    대구광역시 달서구 감삼동   \n",
      "2      ACCIDENT_00002  2019-01-01 01  화요일   맑음    대구광역시 수성구 두산동   \n",
      "3      ACCIDENT_00003  2019-01-01 02  화요일   맑음     대구광역시 북구 복현동   \n",
      "4      ACCIDENT_00004  2019-01-01 04  화요일   맑음     대구광역시 동구 신암동   \n",
      "...               ...            ...  ...  ...              ...   \n",
      "39604  ACCIDENT_39604  2021-12-31 19  금요일   맑음  대구광역시 수성구 수성동3가   \n",
      "39605  ACCIDENT_39605  2021-12-31 19  금요일   맑음    대구광역시 달서구 상인동   \n",
      "39606  ACCIDENT_39606  2021-12-31 21  금요일   맑음    대구광역시 달서구 월성동   \n",
      "39607  ACCIDENT_39607  2021-12-31 22  금요일   맑음     대구광역시 달서구 장동   \n",
      "39608  ACCIDENT_39608  2021-12-31 23  금요일   맑음     대구광역시 서구 비산동   \n",
      "\n",
      "                  도로형태 노면상태  사고유형 사고유형 - 세부분류       법규위반  ... 가해운전자 상해정도  \\\n",
      "0             단일로 - 기타   건조  차대사람  길가장자리구역통행중    안전운전불이행  ...       상해없음   \n",
      "1             단일로 - 기타   건조  차대사람       보도통행중         기타  ...       상해없음   \n",
      "2             단일로 - 기타   건조  차대사람       차도통행중    안전운전불이행  ...       상해없음   \n",
      "3             단일로 - 기타   건조   차대차          추돌    안전운전불이행  ...       상해없음   \n",
      "4             단일로 - 기타   건조   차대차          추돌    안전운전불이행  ...       상해없음   \n",
      "...                ...  ...   ...         ...        ...  ...        ...   \n",
      "39604       교차로 - 교차로안   건조   차대차        측면충돌       신호위반  ...       상해없음   \n",
      "39605         단일로 - 기타   건조   차대차        측면충돌    안전거리미확보  ...       상해없음   \n",
      "39606       교차로 - 교차로안   건조   차대차        측면충돌  교차로운행방법위반  ...         중상   \n",
      "39607          기타 - 기타   건조   차대차          추돌    안전운전불이행  ...       상해없음   \n",
      "39608  단일로 - 지하차도(도로)내   건조   차대차        측면충돌    안전운전불이행  ...       상해없음   \n",
      "\n",
      "      피해운전자 차종 피해운전자 성별 피해운전자 연령 피해운전자 상해정도 사망자수 중상자수 경상자수  부상자수  ECLO  \n",
      "0          보행자        여      70세         중상    0    1    0     0     5  \n",
      "1          보행자        남      61세         경상    0    0    1     0     3  \n",
      "2          보행자        남      38세         경상    0    0    1     0     3  \n",
      "3           승용        남      36세         중상    0    1    0     0     5  \n",
      "4           승용        남      52세         경상    0    0    1     0     3  \n",
      "...        ...      ...      ...        ...  ...  ...  ...   ...   ...  \n",
      "39604       이륜        남      28세         경상    0    0    1     0     3  \n",
      "39605       승용        남      52세         경상    0    0    1     0     3  \n",
      "39606       승용        남      73세         중상    0    2    0     0    10  \n",
      "39607       승용        여      57세         경상    0    0    1     0     3  \n",
      "39608       승용        남      33세         경상    0    0    2     0     6  \n",
      "\n",
      "[39609 rows x 23 columns]\n"
     ]
    }
   ],
   "source": [
    "# 학습용 데이터 로드\n",
    "\n",
    "train_path = 'D:\\Code\\대구 교통사고 피해 예측 AI 경진대회/train.csv '\n",
    "\n",
    "df_train = pd.read_csv(train_path)\n",
    "\n",
    "print(f'학습용 데이터 : \\n{df_train}')"
   ]
  },
  {
   "cell_type": "code",
   "execution_count": 29,
   "metadata": {},
   "outputs": [
    {
     "name": "stdout",
     "output_type": "stream",
     "text": [
      "<class 'pandas.core.frame.DataFrame'>\n",
      "RangeIndex: 39609 entries, 0 to 39608\n",
      "Data columns (total 23 columns):\n",
      " #   Column       Non-Null Count  Dtype \n",
      "---  ------       --------------  ----- \n",
      " 0   ID           39609 non-null  object\n",
      " 1   사고일시         39609 non-null  object\n",
      " 2   요일           39609 non-null  object\n",
      " 3   기상상태         39609 non-null  object\n",
      " 4   시군구          39609 non-null  object\n",
      " 5   도로형태         39609 non-null  object\n",
      " 6   노면상태         39609 non-null  object\n",
      " 7   사고유형         39609 non-null  object\n",
      " 8   사고유형 - 세부분류  39609 non-null  object\n",
      " 9   법규위반         39609 non-null  object\n",
      " 10  가해운전자 차종     39609 non-null  object\n",
      " 11  가해운전자 성별     39609 non-null  object\n",
      " 12  가해운전자 연령     39609 non-null  object\n",
      " 13  가해운전자 상해정도   39609 non-null  object\n",
      " 14  피해운전자 차종     38618 non-null  object\n",
      " 15  피해운전자 성별     38618 non-null  object\n",
      " 16  피해운전자 연령     38618 non-null  object\n",
      " 17  피해운전자 상해정도   38618 non-null  object\n",
      " 18  사망자수         39609 non-null  int64 \n",
      " 19  중상자수         39609 non-null  int64 \n",
      " 20  경상자수         39609 non-null  int64 \n",
      " 21  부상자수         39609 non-null  int64 \n",
      " 22  ECLO         39609 non-null  int64 \n",
      "dtypes: int64(5), object(18)\n",
      "memory usage: 7.0+ MB\n"
     ]
    }
   ],
   "source": [
    "# 학습용 데이터의 정보 확인하기\n",
    "df_train.info()"
   ]
  },
  {
   "cell_type": "code",
   "execution_count": 30,
   "metadata": {},
   "outputs": [
    {
     "name": "stdout",
     "output_type": "stream",
     "text": [
      "Index(['ID', '사고일시', '요일', '기상상태', '시군구', '도로형태', '노면상태', '사고유형',\n",
      "       '사고유형 - 세부분류', '법규위반', '가해운전자 차종', '가해운전자 성별', '가해운전자 연령', '가해운전자 상해정도',\n",
      "       '피해운전자 차종', '피해운전자 성별', '피해운전자 연령', '피해운전자 상해정도', '사망자수', '중상자수',\n",
      "       '경상자수', '부상자수', 'ECLO'],\n",
      "      dtype='object')\n"
     ]
    }
   ],
   "source": [
    "train_columns = df_train.columns\n",
    "print(train_columns)"
   ]
  },
  {
   "cell_type": "code",
   "execution_count": 31,
   "metadata": {},
   "outputs": [
    {
     "name": "stdout",
     "output_type": "stream",
     "text": [
      "Index(['ID', 'AHD', 'Day', 'Weather', 'Location', 'LoadShape', 'LordStatus',\n",
      "       'Accident', 'Accident-Detail', 'Violation of law', 'Driver_kind',\n",
      "       'Driver_sex', 'Driver_age', 'Driver_damaged', 'Victim_kind',\n",
      "       'Victim_sex', 'Victim_age', 'Victim_damaged', 'n_Dead', 'S_injured',\n",
      "       'm_injured', 'injured', 'ECLO'],\n",
      "      dtype='object')\n"
     ]
    }
   ],
   "source": [
    "# 각 한글 컬럼들을 영문컬럼으로 변환\n",
    "df_train.columns=['ID', # ID,\n",
    "                  'AHD',#사고일시\n",
    "                  'Day',#요일\n",
    "                  'Weather',#기상상태\n",
    "                  'Location',#시군구\n",
    "                  'LoadShape',#도로형태\n",
    "                  'LordStatus',#노면상태\n",
    "                  'Accident',#사고유형\n",
    "                  'Accident-Detail',#사고유형-세부분류\n",
    "                  'Violation of law',#법규위반\n",
    "                  'Driver_kind',#가해운전자 차종\n",
    "                  'Driver_sex',#가해운전자 성별\n",
    "                  'Driver_age',#가해운전자 연령\n",
    "                  'Driver_damaged',#가해운전자 상해정도\n",
    "                  'Victim_kind',#피해운전자 차종\n",
    "                  'Victim_sex',#피해운전자 성별\n",
    "                  'Victim_age',#피해운전자 연령\n",
    "                  'Victim_damaged',#피해운전자 상해정도\n",
    "                  'n_Dead',#사망자수\n",
    "                  'S_injured',#중상자수\n",
    "                  'm_injured',#경상자수\n",
    "                  'injured',#부상자수\n",
    "                  'ECLO' #정답컬럼\n",
    "]\n",
    "\n",
    "print(df_train.columns)"
   ]
  },
  {
   "cell_type": "code",
   "execution_count": 32,
   "metadata": {},
   "outputs": [
    {
     "data": {
      "text/plain": [
       "ID                    0\n",
       "AHD                   0\n",
       "Day                   0\n",
       "Weather               0\n",
       "Location              0\n",
       "LoadShape             0\n",
       "LordStatus            0\n",
       "Accident              0\n",
       "Accident-Detail       0\n",
       "Violation of law      0\n",
       "Driver_kind           0\n",
       "Driver_sex            0\n",
       "Driver_age            0\n",
       "Driver_damaged        0\n",
       "Victim_kind         991\n",
       "Victim_sex          991\n",
       "Victim_age          991\n",
       "Victim_damaged      991\n",
       "n_Dead                0\n",
       "S_injured             0\n",
       "m_injured             0\n",
       "injured               0\n",
       "ECLO                  0\n",
       "dtype: int64"
      ]
     },
     "execution_count": 32,
     "metadata": {},
     "output_type": "execute_result"
    }
   ],
   "source": [
    "# 학습용 데이터의 결측치 확인 및 제거\n",
    "df_train.isnull().sum()\n",
    "\n",
    "# 피해운전자 차종,성별,연령,상해정도 총 4개의 컬럼에 결측치가 존재.\n",
    "# "
   ]
  },
  {
   "cell_type": "code",
   "execution_count": 33,
   "metadata": {},
   "outputs": [
    {
     "name": "stdout",
     "output_type": "stream",
     "text": [
      "                   ID            AHD  Day Weather         Location  \\\n",
      "0      ACCIDENT_00000  2019-01-01 00  화요일      맑음     대구광역시 중구 대신동   \n",
      "1      ACCIDENT_00001  2019-01-01 00  화요일      흐림    대구광역시 달서구 감삼동   \n",
      "2      ACCIDENT_00002  2019-01-01 01  화요일      맑음    대구광역시 수성구 두산동   \n",
      "3      ACCIDENT_00003  2019-01-01 02  화요일      맑음     대구광역시 북구 복현동   \n",
      "4      ACCIDENT_00004  2019-01-01 04  화요일      맑음     대구광역시 동구 신암동   \n",
      "...               ...            ...  ...     ...              ...   \n",
      "39604  ACCIDENT_39604  2021-12-31 19  금요일      맑음  대구광역시 수성구 수성동3가   \n",
      "39605  ACCIDENT_39605  2021-12-31 19  금요일      맑음    대구광역시 달서구 상인동   \n",
      "39606  ACCIDENT_39606  2021-12-31 21  금요일      맑음    대구광역시 달서구 월성동   \n",
      "39607  ACCIDENT_39607  2021-12-31 22  금요일      맑음     대구광역시 달서구 장동   \n",
      "39608  ACCIDENT_39608  2021-12-31 23  금요일      맑음     대구광역시 서구 비산동   \n",
      "\n",
      "             LoadShape LordStatus Accident Accident-Detail Violation of law  \\\n",
      "0             단일로 - 기타         건조     차대사람      길가장자리구역통행중          안전운전불이행   \n",
      "1             단일로 - 기타         건조     차대사람           보도통행중               기타   \n",
      "2             단일로 - 기타         건조     차대사람           차도통행중          안전운전불이행   \n",
      "3             단일로 - 기타         건조      차대차              추돌          안전운전불이행   \n",
      "4             단일로 - 기타         건조      차대차              추돌          안전운전불이행   \n",
      "...                ...        ...      ...             ...              ...   \n",
      "39604       교차로 - 교차로안         건조      차대차            측면충돌             신호위반   \n",
      "39605         단일로 - 기타         건조      차대차            측면충돌          안전거리미확보   \n",
      "39606       교차로 - 교차로안         건조      차대차            측면충돌        교차로운행방법위반   \n",
      "39607          기타 - 기타         건조      차대차              추돌          안전운전불이행   \n",
      "39608  단일로 - 지하차도(도로)내         건조      차대차            측면충돌          안전운전불이행   \n",
      "\n",
      "      Driver_kind Driver_sex Driver_age Driver_damaged  n_Dead  S_injured  \\\n",
      "0              승용          여        51세           상해없음       0          1   \n",
      "1              승용          남        39세           상해없음       0          0   \n",
      "2              승용          남        70세           상해없음       0          0   \n",
      "3              승용          남        49세           상해없음       0          1   \n",
      "4              승용          남        30세           상해없음       0          0   \n",
      "...           ...        ...        ...            ...     ...        ...   \n",
      "39604          승용          여        52세           상해없음       0          0   \n",
      "39605          승용          여        60세           상해없음       0          0   \n",
      "39606          승용          남        60세             중상       0          2   \n",
      "39607          승용          남        40세           상해없음       0          0   \n",
      "39608          승용          남        27세           상해없음       0          0   \n",
      "\n",
      "       m_injured  injured  ECLO  \n",
      "0              0        0     5  \n",
      "1              1        0     3  \n",
      "2              1        0     3  \n",
      "3              0        0     5  \n",
      "4              1        0     3  \n",
      "...          ...      ...   ...  \n",
      "39604          1        0     3  \n",
      "39605          1        0     3  \n",
      "39606          0        0    10  \n",
      "39607          1        0     3  \n",
      "39608          2        0     6  \n",
      "\n",
      "[39609 rows x 19 columns]\n"
     ]
    }
   ],
   "source": [
    "# 결측치가 너무 많아 채울 수가 없는 컬럼 제거\n",
    "\n",
    "df_train.drop(columns=['Victim_kind',\n",
    "                       'Victim_sex',\n",
    "                       'Victim_age',\n",
    "                       'Victim_damaged'], inplace=True)\n",
    "\n",
    "print(df_train)"
   ]
  },
  {
   "cell_type": "code",
   "execution_count": 34,
   "metadata": {},
   "outputs": [
    {
     "data": {
      "text/plain": [
       "ID                  0\n",
       "AHD                 0\n",
       "Day                 0\n",
       "Weather             0\n",
       "Location            0\n",
       "LoadShape           0\n",
       "LordStatus          0\n",
       "Accident            0\n",
       "Accident-Detail     0\n",
       "Violation of law    0\n",
       "Driver_kind         0\n",
       "Driver_sex          0\n",
       "Driver_age          0\n",
       "Driver_damaged      0\n",
       "n_Dead              0\n",
       "S_injured           0\n",
       "m_injured           0\n",
       "injured             0\n",
       "ECLO                0\n",
       "dtype: int64"
      ]
     },
     "execution_count": 34,
     "metadata": {},
     "output_type": "execute_result"
    }
   ],
   "source": [
    "df_train.isnull().sum()"
   ]
  },
  {
   "cell_type": "code",
   "execution_count": 35,
   "metadata": {},
   "outputs": [
    {
     "name": "stdout",
     "output_type": "stream",
     "text": [
      "                   ID            AHD  Day Weather         Location  \\\n",
      "0      ACCIDENT_00000  2019-01-01 00  화요일      맑음     대구광역시 중구 대신동   \n",
      "1      ACCIDENT_00001  2019-01-01 00  화요일      흐림    대구광역시 달서구 감삼동   \n",
      "2      ACCIDENT_00002  2019-01-01 01  화요일      맑음    대구광역시 수성구 두산동   \n",
      "3      ACCIDENT_00003  2019-01-01 02  화요일      맑음     대구광역시 북구 복현동   \n",
      "4      ACCIDENT_00004  2019-01-01 04  화요일      맑음     대구광역시 동구 신암동   \n",
      "...               ...            ...  ...     ...              ...   \n",
      "39604  ACCIDENT_39604  2021-12-31 19  금요일      맑음  대구광역시 수성구 수성동3가   \n",
      "39605  ACCIDENT_39605  2021-12-31 19  금요일      맑음    대구광역시 달서구 상인동   \n",
      "39606  ACCIDENT_39606  2021-12-31 21  금요일      맑음    대구광역시 달서구 월성동   \n",
      "39607  ACCIDENT_39607  2021-12-31 22  금요일      맑음     대구광역시 달서구 장동   \n",
      "39608  ACCIDENT_39608  2021-12-31 23  금요일      맑음     대구광역시 서구 비산동   \n",
      "\n",
      "             LoadShape LordStatus Accident Accident-Detail Violation of law  \\\n",
      "0             단일로 - 기타         건조     차대사람      길가장자리구역통행중          안전운전불이행   \n",
      "1             단일로 - 기타         건조     차대사람           보도통행중               기타   \n",
      "2             단일로 - 기타         건조     차대사람           차도통행중          안전운전불이행   \n",
      "3             단일로 - 기타         건조      차대차              추돌          안전운전불이행   \n",
      "4             단일로 - 기타         건조      차대차              추돌          안전운전불이행   \n",
      "...                ...        ...      ...             ...              ...   \n",
      "39604       교차로 - 교차로안         건조      차대차            측면충돌             신호위반   \n",
      "39605         단일로 - 기타         건조      차대차            측면충돌          안전거리미확보   \n",
      "39606       교차로 - 교차로안         건조      차대차            측면충돌        교차로운행방법위반   \n",
      "39607          기타 - 기타         건조      차대차              추돌          안전운전불이행   \n",
      "39608  단일로 - 지하차도(도로)내         건조      차대차            측면충돌          안전운전불이행   \n",
      "\n",
      "      Driver_kind Driver_sex Driver_age Driver_damaged  n_Dead  S_injured  \\\n",
      "0              승용          여        51세           상해없음       0          1   \n",
      "1              승용          남        39세           상해없음       0          0   \n",
      "2              승용          남        70세           상해없음       0          0   \n",
      "3              승용          남        49세           상해없음       0          1   \n",
      "4              승용          남        30세           상해없음       0          0   \n",
      "...           ...        ...        ...            ...     ...        ...   \n",
      "39604          승용          여        52세           상해없음       0          0   \n",
      "39605          승용          여        60세           상해없음       0          0   \n",
      "39606          승용          남        60세             중상       0          2   \n",
      "39607          승용          남        40세           상해없음       0          0   \n",
      "39608          승용          남        27세           상해없음       0          0   \n",
      "\n",
      "       m_injured  injured  ECLO  \n",
      "0              0        0     5  \n",
      "1              1        0     3  \n",
      "2              1        0     3  \n",
      "3              0        0     5  \n",
      "4              1        0     3  \n",
      "...          ...      ...   ...  \n",
      "39604          1        0     3  \n",
      "39605          1        0     3  \n",
      "39606          0        0    10  \n",
      "39607          1        0     3  \n",
      "39608          2        0     6  \n",
      "\n",
      "[39609 rows x 19 columns]\n"
     ]
    },
    {
     "data": {
      "text/plain": [
       "'\\n\\nECLO = 사망자수 * 10 + 중상자수 * 5 + 경상자수 * 3 + 부상자수 * 1\\n\\n'"
      ]
     },
     "execution_count": 35,
     "metadata": {},
     "output_type": "execute_result"
    }
   ],
   "source": [
    "print(df_train)\n",
    "\n",
    "'''\n",
    "\n",
    "ECLO = 사망자수 * 10 + 중상자수 * 5 + 경상자수 * 3 + 부상자수 * 1\n",
    "\n",
    "'''"
   ]
  },
  {
   "cell_type": "code",
   "execution_count": 37,
   "metadata": {},
   "outputs": [
    {
     "ename": "TypeError",
     "evalue": "no numeric data to plot",
     "output_type": "error",
     "traceback": [
      "\u001b[1;31m---------------------------------------------------------------------------\u001b[0m",
      "\u001b[1;31mTypeError\u001b[0m                                 Traceback (most recent call last)",
      "Cell \u001b[1;32mIn[37], line 1\u001b[0m\n\u001b[1;32m----> 1\u001b[0m df_train\u001b[38;5;241m.\u001b[39mloc[:,\u001b[38;5;124m'\u001b[39m\u001b[38;5;124mID\u001b[39m\u001b[38;5;124m'\u001b[39m]\u001b[38;5;241m.\u001b[39mplot(kind\u001b[38;5;241m=\u001b[39m\u001b[38;5;124m'\u001b[39m\u001b[38;5;124mbox\u001b[39m\u001b[38;5;124m'\u001b[39m)\n",
      "File \u001b[1;32mc:\\Users\\human\\anaconda3\\Lib\\site-packages\\pandas\\plotting\\_core.py:975\u001b[0m, in \u001b[0;36mPlotAccessor.__call__\u001b[1;34m(self, *args, **kwargs)\u001b[0m\n\u001b[0;32m    972\u001b[0m             label_name \u001b[38;5;241m=\u001b[39m label_kw \u001b[38;5;129;01mor\u001b[39;00m data\u001b[38;5;241m.\u001b[39mcolumns\n\u001b[0;32m    973\u001b[0m             data\u001b[38;5;241m.\u001b[39mcolumns \u001b[38;5;241m=\u001b[39m label_name\n\u001b[1;32m--> 975\u001b[0m \u001b[38;5;28;01mreturn\u001b[39;00m plot_backend\u001b[38;5;241m.\u001b[39mplot(data, kind\u001b[38;5;241m=\u001b[39mkind, \u001b[38;5;241m*\u001b[39m\u001b[38;5;241m*\u001b[39mkwargs)\n",
      "File \u001b[1;32mc:\\Users\\human\\anaconda3\\Lib\\site-packages\\pandas\\plotting\\_matplotlib\\__init__.py:71\u001b[0m, in \u001b[0;36mplot\u001b[1;34m(data, kind, **kwargs)\u001b[0m\n\u001b[0;32m     69\u001b[0m         kwargs[\u001b[38;5;124m\"\u001b[39m\u001b[38;5;124max\u001b[39m\u001b[38;5;124m\"\u001b[39m] \u001b[38;5;241m=\u001b[39m \u001b[38;5;28mgetattr\u001b[39m(ax, \u001b[38;5;124m\"\u001b[39m\u001b[38;5;124mleft_ax\u001b[39m\u001b[38;5;124m\"\u001b[39m, ax)\n\u001b[0;32m     70\u001b[0m plot_obj \u001b[38;5;241m=\u001b[39m PLOT_CLASSES[kind](data, \u001b[38;5;241m*\u001b[39m\u001b[38;5;241m*\u001b[39mkwargs)\n\u001b[1;32m---> 71\u001b[0m plot_obj\u001b[38;5;241m.\u001b[39mgenerate()\n\u001b[0;32m     72\u001b[0m plot_obj\u001b[38;5;241m.\u001b[39mdraw()\n\u001b[0;32m     73\u001b[0m \u001b[38;5;28;01mreturn\u001b[39;00m plot_obj\u001b[38;5;241m.\u001b[39mresult\n",
      "File \u001b[1;32mc:\\Users\\human\\anaconda3\\Lib\\site-packages\\pandas\\plotting\\_matplotlib\\core.py:446\u001b[0m, in \u001b[0;36mMPLPlot.generate\u001b[1;34m(self)\u001b[0m\n\u001b[0;32m    444\u001b[0m \u001b[38;5;28;01mdef\u001b[39;00m \u001b[38;5;21mgenerate\u001b[39m(\u001b[38;5;28mself\u001b[39m) \u001b[38;5;241m-\u001b[39m\u001b[38;5;241m>\u001b[39m \u001b[38;5;28;01mNone\u001b[39;00m:\n\u001b[0;32m    445\u001b[0m     \u001b[38;5;28mself\u001b[39m\u001b[38;5;241m.\u001b[39m_args_adjust()\n\u001b[1;32m--> 446\u001b[0m     \u001b[38;5;28mself\u001b[39m\u001b[38;5;241m.\u001b[39m_compute_plot_data()\n\u001b[0;32m    447\u001b[0m     \u001b[38;5;28mself\u001b[39m\u001b[38;5;241m.\u001b[39m_setup_subplots()\n\u001b[0;32m    448\u001b[0m     \u001b[38;5;28mself\u001b[39m\u001b[38;5;241m.\u001b[39m_make_plot()\n",
      "File \u001b[1;32mc:\\Users\\human\\anaconda3\\Lib\\site-packages\\pandas\\plotting\\_matplotlib\\core.py:632\u001b[0m, in \u001b[0;36mMPLPlot._compute_plot_data\u001b[1;34m(self)\u001b[0m\n\u001b[0;32m    630\u001b[0m \u001b[38;5;66;03m# no non-numeric frames or series allowed\u001b[39;00m\n\u001b[0;32m    631\u001b[0m \u001b[38;5;28;01mif\u001b[39;00m is_empty:\n\u001b[1;32m--> 632\u001b[0m     \u001b[38;5;28;01mraise\u001b[39;00m \u001b[38;5;167;01mTypeError\u001b[39;00m(\u001b[38;5;124m\"\u001b[39m\u001b[38;5;124mno numeric data to plot\u001b[39m\u001b[38;5;124m\"\u001b[39m)\n\u001b[0;32m    634\u001b[0m \u001b[38;5;28mself\u001b[39m\u001b[38;5;241m.\u001b[39mdata \u001b[38;5;241m=\u001b[39m numeric_data\u001b[38;5;241m.\u001b[39mapply(\u001b[38;5;28mself\u001b[39m\u001b[38;5;241m.\u001b[39m_convert_to_ndarray)\n",
      "\u001b[1;31mTypeError\u001b[0m: no numeric data to plot"
     ]
    }
   ],
   "source": []
  },
  {
   "cell_type": "code",
   "execution_count": null,
   "metadata": {},
   "outputs": [],
   "source": []
  },
  {
   "cell_type": "code",
   "execution_count": null,
   "metadata": {},
   "outputs": [
    {
     "name": "stdout",
     "output_type": "stream",
     "text": [
      "평가용 데이터 : \n",
      "                   ID           사고일시   요일 기상상태              시군구         도로형태  \\\n",
      "0      ACCIDENT_39609  2022-01-01 01  토요일   맑음     대구광역시 수성구 상동   교차로 - 교차로안   \n",
      "1      ACCIDENT_39610  2022-01-01 01  토요일   맑음    대구광역시 수성구 지산동     단일로 - 기타   \n",
      "2      ACCIDENT_39611  2022-01-01 04  토요일   맑음  대구광역시 수성구 수성동2가   교차로 - 교차로안   \n",
      "3      ACCIDENT_39612  2022-01-01 04  토요일   맑음    대구광역시 수성구 신매동     단일로 - 기타   \n",
      "4      ACCIDENT_39613  2022-01-01 06  토요일   맑음    대구광역시 달서구 감삼동   교차로 - 교차로안   \n",
      "...               ...            ...  ...  ...              ...          ...   \n",
      "10958  ACCIDENT_50567  2022-12-31 18  토요일   맑음     대구광역시 남구 대명동     단일로 - 터널   \n",
      "10959  ACCIDENT_50568  2022-12-31 18  토요일   맑음    대구광역시 수성구 시지동     단일로 - 기타   \n",
      "10960  ACCIDENT_50569  2022-12-31 20  토요일   맑음    대구광역시 수성구 연호동     단일로 - 기타   \n",
      "10961  ACCIDENT_50570  2022-12-31 20  토요일   맑음    대구광역시 수성구 범물동  교차로 - 교차로부근   \n",
      "10962  ACCIDENT_50571  2022-12-31 21  토요일   맑음     대구광역시 동구 효목동  교차로 - 교차로부근   \n",
      "\n",
      "      노면상태  사고유형  \n",
      "0       건조  차대사람  \n",
      "1       건조  차대사람  \n",
      "2       건조   차대차  \n",
      "3       건조   차대차  \n",
      "4       건조   차대차  \n",
      "...    ...   ...  \n",
      "10958   건조   차대차  \n",
      "10959   건조   차대차  \n",
      "10960   건조   차대차  \n",
      "10961   건조   차대차  \n",
      "10962   건조   차대차  \n",
      "\n",
      "[10963 rows x 8 columns]\n"
     ]
    }
   ],
   "source": [
    "# 평가용 데이터 생성\n",
    "\n",
    "test_path = 'D:\\Code\\대구 교통사고 피해 예측 AI 경진대회/test.csv'\n",
    "\n",
    "df_test = pd.read_csv(test_path)\n",
    "\n",
    "print(f'평가용 데이터 : \\n{df_test}')"
   ]
  }
 ],
 "metadata": {
  "kernelspec": {
   "display_name": "NvulyTarget",
   "language": "python",
   "name": "conda"
  },
  "language_info": {
   "codemirror_mode": {
    "name": "ipython",
    "version": 3
   },
   "file_extension": ".py",
   "mimetype": "text/x-python",
   "name": "python",
   "nbconvert_exporter": "python",
   "pygments_lexer": "ipython3",
   "version": "3.11.5"
  }
 },
 "nbformat": 4,
 "nbformat_minor": 2
}
