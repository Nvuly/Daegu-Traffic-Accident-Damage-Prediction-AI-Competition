{
  "metadata": {
    "kernelspec": {
      "name": "python",
      "display_name": "Python (Pyodide)",
      "language": "python"
    },
    "language_info": {
      "codemirror_mode": {
        "name": "python",
        "version": 3
      },
      "file_extension": ".py",
      "mimetype": "text/x-python",
      "name": "python",
      "nbconvert_exporter": "python",
      "pygments_lexer": "ipython3",
      "version": "3.8"
    }
  },
  "nbformat_minor": 4,
  "nbformat": 4,
  "cells": [
    {
      "cell_type": "code",
      "source": "#hiddencell\nimport micropip\nawait micropip.install(\"seaborn\")\nfrom pbl_tools import *\n\nimport matplotlib.pyplot as plt\nimport matplotlib.font_manager as fm\n\nfe = fm.FontEntry(fname = 'MaruBuri-Regular.otf', name = 'MaruBuri')\nfm.fontManager.ttflist.insert(0, fe)\nplt.rc('font', family='MaruBuri')",
      "metadata": {
        "pbl_cell_type": "hidden_setup_code",
        "step_id": 4887,
        "step_number": 0,
        "deletable": false,
        "trusted": true
      },
      "execution_count": 6,
      "outputs": []
    },
    {
      "cell_type": "markdown",
      "source": "# **대구 교통 사고 피해 예측 AI 경진대회 Baseline Code**",
      "metadata": {
        "pbl_cell_type": "markdown",
        "step_id": 4887,
        "step_number": 0,
        "deletable": false,
        "trusted": true
      }
    },
    {
      "cell_type": "markdown",
      "source": "## **Fixed Random Seed**  \n\nseed 값에 의해 동일한 코드를 사용해도 결과가 다를 수 있기에, 동일한 결과를 위해 seed 값을 고정시킵니다",
      "metadata": {
        "step_id": 5096,
        "step_number": 1,
        "pbl_cell_type": "markdown",
        "trusted": true
      }
    },
    {
      "cell_type": "code",
      "source": "import os\nimport random\nimport numpy as np\n\ndef seed_everything(seed):\n    random.seed(seed)\n    os.environ['PYTHONHASHSEED'] = str(seed)\n    np.random.seed(seed)\n\nseed_everything(42)",
      "metadata": {
        "step_id": 5096,
        "step_number": 1,
        "pbl_cell_type": "code",
        "trusted": true
      },
      "execution_count": 37,
      "outputs": []
    },
    {
      "cell_type": "markdown",
      "source": "## **데이터 불러오기 및 상위행 확인**  \n\ntrain.csv, test.csv 파일을 로드하여 상위행을 출력해 봅시다",
      "metadata": {
        "step_id": 5096,
        "step_number": 1,
        "pbl_cell_type": "markdown",
        "trusted": true
      }
    },
    {
      "cell_type": "code",
      "source": "import pandas as pd \n\ntrain_org = pd.read_csv('train.csv') \ntest_org = pd.read_csv('test.csv')\n\ndisplay(train_org.head())\ndisplay(test_org.tail())",
      "metadata": {
        "step_id": 5096,
        "step_number": 1,
        "pbl_cell_type": "code",
        "trusted": true
      },
      "execution_count": 38,
      "outputs": [
        {
          "output_type": "display_data",
          "data": {
            "text/plain": "               ID           사고일시   요일 기상상태            시군구      도로형태 노면상태  \\\n0  ACCIDENT_00000  2019-01-01 00  화요일   맑음   대구광역시 중구 대신동  단일로 - 기타   건조   \n1  ACCIDENT_00001  2019-01-01 00  화요일   흐림  대구광역시 달서구 감삼동  단일로 - 기타   건조   \n2  ACCIDENT_00002  2019-01-01 01  화요일   맑음  대구광역시 수성구 두산동  단일로 - 기타   건조   \n3  ACCIDENT_00003  2019-01-01 02  화요일   맑음   대구광역시 북구 복현동  단일로 - 기타   건조   \n4  ACCIDENT_00004  2019-01-01 04  화요일   맑음   대구광역시 동구 신암동  단일로 - 기타   건조   \n\n   사고유형 사고유형 - 세부분류     법규위반  ... 가해운전자 상해정도 피해운전자 차종 피해운전자 성별 피해운전자 연령  \\\n0  차대사람  길가장자리구역통행중  안전운전불이행  ...       상해없음      보행자        여      70세   \n1  차대사람       보도통행중       기타  ...       상해없음      보행자        남      61세   \n2  차대사람       차도통행중  안전운전불이행  ...       상해없음      보행자        남      38세   \n3   차대차          추돌  안전운전불이행  ...       상해없음       승용        남      36세   \n4   차대차          추돌  안전운전불이행  ...       상해없음       승용        남      52세   \n\n  피해운전자 상해정도 사망자수 중상자수 경상자수  부상자수  ECLO  \n0         중상    0    1    0     0     5  \n1         경상    0    0    1     0     3  \n2         경상    0    0    1     0     3  \n3         중상    0    1    0     0     5  \n4         경상    0    0    1     0     3  \n\n[5 rows x 23 columns]",
            "text/html": "<div>\n<style scoped>\n    .dataframe tbody tr th:only-of-type {\n        vertical-align: middle;\n    }\n\n    .dataframe tbody tr th {\n        vertical-align: top;\n    }\n\n    .dataframe thead th {\n        text-align: right;\n    }\n</style>\n<table border=\"1\" class=\"dataframe\">\n  <thead>\n    <tr style=\"text-align: right;\">\n      <th></th>\n      <th>ID</th>\n      <th>사고일시</th>\n      <th>요일</th>\n      <th>기상상태</th>\n      <th>시군구</th>\n      <th>도로형태</th>\n      <th>노면상태</th>\n      <th>사고유형</th>\n      <th>사고유형 - 세부분류</th>\n      <th>법규위반</th>\n      <th>...</th>\n      <th>가해운전자 상해정도</th>\n      <th>피해운전자 차종</th>\n      <th>피해운전자 성별</th>\n      <th>피해운전자 연령</th>\n      <th>피해운전자 상해정도</th>\n      <th>사망자수</th>\n      <th>중상자수</th>\n      <th>경상자수</th>\n      <th>부상자수</th>\n      <th>ECLO</th>\n    </tr>\n  </thead>\n  <tbody>\n    <tr>\n      <th>0</th>\n      <td>ACCIDENT_00000</td>\n      <td>2019-01-01 00</td>\n      <td>화요일</td>\n      <td>맑음</td>\n      <td>대구광역시 중구 대신동</td>\n      <td>단일로 - 기타</td>\n      <td>건조</td>\n      <td>차대사람</td>\n      <td>길가장자리구역통행중</td>\n      <td>안전운전불이행</td>\n      <td>...</td>\n      <td>상해없음</td>\n      <td>보행자</td>\n      <td>여</td>\n      <td>70세</td>\n      <td>중상</td>\n      <td>0</td>\n      <td>1</td>\n      <td>0</td>\n      <td>0</td>\n      <td>5</td>\n    </tr>\n    <tr>\n      <th>1</th>\n      <td>ACCIDENT_00001</td>\n      <td>2019-01-01 00</td>\n      <td>화요일</td>\n      <td>흐림</td>\n      <td>대구광역시 달서구 감삼동</td>\n      <td>단일로 - 기타</td>\n      <td>건조</td>\n      <td>차대사람</td>\n      <td>보도통행중</td>\n      <td>기타</td>\n      <td>...</td>\n      <td>상해없음</td>\n      <td>보행자</td>\n      <td>남</td>\n      <td>61세</td>\n      <td>경상</td>\n      <td>0</td>\n      <td>0</td>\n      <td>1</td>\n      <td>0</td>\n      <td>3</td>\n    </tr>\n    <tr>\n      <th>2</th>\n      <td>ACCIDENT_00002</td>\n      <td>2019-01-01 01</td>\n      <td>화요일</td>\n      <td>맑음</td>\n      <td>대구광역시 수성구 두산동</td>\n      <td>단일로 - 기타</td>\n      <td>건조</td>\n      <td>차대사람</td>\n      <td>차도통행중</td>\n      <td>안전운전불이행</td>\n      <td>...</td>\n      <td>상해없음</td>\n      <td>보행자</td>\n      <td>남</td>\n      <td>38세</td>\n      <td>경상</td>\n      <td>0</td>\n      <td>0</td>\n      <td>1</td>\n      <td>0</td>\n      <td>3</td>\n    </tr>\n    <tr>\n      <th>3</th>\n      <td>ACCIDENT_00003</td>\n      <td>2019-01-01 02</td>\n      <td>화요일</td>\n      <td>맑음</td>\n      <td>대구광역시 북구 복현동</td>\n      <td>단일로 - 기타</td>\n      <td>건조</td>\n      <td>차대차</td>\n      <td>추돌</td>\n      <td>안전운전불이행</td>\n      <td>...</td>\n      <td>상해없음</td>\n      <td>승용</td>\n      <td>남</td>\n      <td>36세</td>\n      <td>중상</td>\n      <td>0</td>\n      <td>1</td>\n      <td>0</td>\n      <td>0</td>\n      <td>5</td>\n    </tr>\n    <tr>\n      <th>4</th>\n      <td>ACCIDENT_00004</td>\n      <td>2019-01-01 04</td>\n      <td>화요일</td>\n      <td>맑음</td>\n      <td>대구광역시 동구 신암동</td>\n      <td>단일로 - 기타</td>\n      <td>건조</td>\n      <td>차대차</td>\n      <td>추돌</td>\n      <td>안전운전불이행</td>\n      <td>...</td>\n      <td>상해없음</td>\n      <td>승용</td>\n      <td>남</td>\n      <td>52세</td>\n      <td>경상</td>\n      <td>0</td>\n      <td>0</td>\n      <td>1</td>\n      <td>0</td>\n      <td>3</td>\n    </tr>\n  </tbody>\n</table>\n<p>5 rows × 23 columns</p>\n</div>"
          },
          "metadata": {}
        },
        {
          "output_type": "display_data",
          "data": {
            "text/plain": "                   ID           사고일시   요일 기상상태            시군구         도로형태  \\\n10958  ACCIDENT_50567  2022-12-31 18  토요일   맑음   대구광역시 남구 대명동     단일로 - 터널   \n10959  ACCIDENT_50568  2022-12-31 18  토요일   맑음  대구광역시 수성구 시지동     단일로 - 기타   \n10960  ACCIDENT_50569  2022-12-31 20  토요일   맑음  대구광역시 수성구 연호동     단일로 - 기타   \n10961  ACCIDENT_50570  2022-12-31 20  토요일   맑음  대구광역시 수성구 범물동  교차로 - 교차로부근   \n10962  ACCIDENT_50571  2022-12-31 21  토요일   맑음   대구광역시 동구 효목동  교차로 - 교차로부근   \n\n      노면상태 사고유형  \n10958   건조  차대차  \n10959   건조  차대차  \n10960   건조  차대차  \n10961   건조  차대차  \n10962   건조  차대차  ",
            "text/html": "<div>\n<style scoped>\n    .dataframe tbody tr th:only-of-type {\n        vertical-align: middle;\n    }\n\n    .dataframe tbody tr th {\n        vertical-align: top;\n    }\n\n    .dataframe thead th {\n        text-align: right;\n    }\n</style>\n<table border=\"1\" class=\"dataframe\">\n  <thead>\n    <tr style=\"text-align: right;\">\n      <th></th>\n      <th>ID</th>\n      <th>사고일시</th>\n      <th>요일</th>\n      <th>기상상태</th>\n      <th>시군구</th>\n      <th>도로형태</th>\n      <th>노면상태</th>\n      <th>사고유형</th>\n    </tr>\n  </thead>\n  <tbody>\n    <tr>\n      <th>10958</th>\n      <td>ACCIDENT_50567</td>\n      <td>2022-12-31 18</td>\n      <td>토요일</td>\n      <td>맑음</td>\n      <td>대구광역시 남구 대명동</td>\n      <td>단일로 - 터널</td>\n      <td>건조</td>\n      <td>차대차</td>\n    </tr>\n    <tr>\n      <th>10959</th>\n      <td>ACCIDENT_50568</td>\n      <td>2022-12-31 18</td>\n      <td>토요일</td>\n      <td>맑음</td>\n      <td>대구광역시 수성구 시지동</td>\n      <td>단일로 - 기타</td>\n      <td>건조</td>\n      <td>차대차</td>\n    </tr>\n    <tr>\n      <th>10960</th>\n      <td>ACCIDENT_50569</td>\n      <td>2022-12-31 20</td>\n      <td>토요일</td>\n      <td>맑음</td>\n      <td>대구광역시 수성구 연호동</td>\n      <td>단일로 - 기타</td>\n      <td>건조</td>\n      <td>차대차</td>\n    </tr>\n    <tr>\n      <th>10961</th>\n      <td>ACCIDENT_50570</td>\n      <td>2022-12-31 20</td>\n      <td>토요일</td>\n      <td>맑음</td>\n      <td>대구광역시 수성구 범물동</td>\n      <td>교차로 - 교차로부근</td>\n      <td>건조</td>\n      <td>차대차</td>\n    </tr>\n    <tr>\n      <th>10962</th>\n      <td>ACCIDENT_50571</td>\n      <td>2022-12-31 21</td>\n      <td>토요일</td>\n      <td>맑음</td>\n      <td>대구광역시 동구 효목동</td>\n      <td>교차로 - 교차로부근</td>\n      <td>건조</td>\n      <td>차대차</td>\n    </tr>\n  </tbody>\n</table>\n</div>"
          },
          "metadata": {}
        }
      ]
    },
    {
      "cell_type": "markdown",
      "source": "## **train, test 데이터 기간 확인하기**  \n\n학습(train) 데이터의 기간과 예측 대상이 되는 test 데이터의 기간을 살펴 봅니다",
      "metadata": {
        "step_id": 5096,
        "step_number": 1,
        "pbl_cell_type": "markdown",
        "trusted": true
      }
    },
    {
      "cell_type": "code",
      "source": "display(f\"train : {train_org.iloc[0]['사고일시']} ~ {train_org.iloc[-1]['사고일시']}\")\ndisplay(f\"test : {test_org.iloc[0]['사고일시']} ~ {test_org.iloc[-1]['사고일시']}\")     ",
      "metadata": {
        "step_id": 5096,
        "step_number": 1,
        "pbl_cell_type": "code",
        "trusted": true
      },
      "execution_count": 39,
      "outputs": [
        {
          "output_type": "display_data",
          "data": {
            "text/plain": "'train : 2019-01-01 00 ~ 2021-12-31 23'"
          },
          "metadata": {}
        },
        {
          "output_type": "display_data",
          "data": {
            "text/plain": "'test : 2022-01-01 01 ~ 2022-12-31 21'"
          },
          "metadata": {}
        }
      ]
    },
    {
      "cell_type": "markdown",
      "source": "## **예측 대상 확인하기**\n\nsample_submission.csv를 로드하여 출력 형식을 확인해 봄으로서, \n대회 페이지 규칙에 기술되어 있는, 예측 대상이 무엇인지 확인해 봅시다.\n\n최종적으로 예측해야 하는 값은 'ECLO'(인명피해 심각도) 값입니다. \n\n그러나, train데이터 컬럼에 있는 '사망자수', '중상자수', '경상자수', '부상자수'를 각각 예측하여 ECLO 예측값을 구할 수도 있습니다. 즉, ECLO 값을 예측하는 단일 모델로 접근할 수도,  각각을 별도로 예측하는 모델로 접근할 수도 있습니다. ",
      "metadata": {
        "step_id": 5096,
        "step_number": 1,
        "pbl_cell_type": "markdown",
        "trusted": true
      }
    },
    {
      "cell_type": "markdown",
      "source": "<img src=\"https://drive.google.com/uc?id=19PvSqu8k04D3a-Bskcl-d-Xkckkn2Fvv\">  ",
      "metadata": {
        "step_id": 5096,
        "step_number": 1,
        "pbl_cell_type": "markdown",
        "trusted": true
      }
    },
    {
      "cell_type": "code",
      "source": "sample_submission = pd.read_csv(\"sample_submission.csv\")\nsample_submission.head()",
      "metadata": {
        "step_id": 5096,
        "step_number": 1,
        "pbl_cell_type": "code",
        "trusted": true
      },
      "execution_count": 57,
      "outputs": [
        {
          "execution_count": 57,
          "output_type": "execute_result",
          "data": {
            "text/plain": "               ID  ECLO\n0  ACCIDENT_39609     0\n1  ACCIDENT_39610     0\n2  ACCIDENT_39611     0\n3  ACCIDENT_39612     0\n4  ACCIDENT_39613     0",
            "text/html": "<div>\n<style scoped>\n    .dataframe tbody tr th:only-of-type {\n        vertical-align: middle;\n    }\n\n    .dataframe tbody tr th {\n        vertical-align: top;\n    }\n\n    .dataframe thead th {\n        text-align: right;\n    }\n</style>\n<table border=\"1\" class=\"dataframe\">\n  <thead>\n    <tr style=\"text-align: right;\">\n      <th></th>\n      <th>ID</th>\n      <th>ECLO</th>\n    </tr>\n  </thead>\n  <tbody>\n    <tr>\n      <th>0</th>\n      <td>ACCIDENT_39609</td>\n      <td>0</td>\n    </tr>\n    <tr>\n      <th>1</th>\n      <td>ACCIDENT_39610</td>\n      <td>0</td>\n    </tr>\n    <tr>\n      <th>2</th>\n      <td>ACCIDENT_39611</td>\n      <td>0</td>\n    </tr>\n    <tr>\n      <th>3</th>\n      <td>ACCIDENT_39612</td>\n      <td>0</td>\n    </tr>\n    <tr>\n      <th>4</th>\n      <td>ACCIDENT_39613</td>\n      <td>0</td>\n    </tr>\n  </tbody>\n</table>\n</div>"
          },
          "metadata": {}
        }
      ]
    },
    {
      "cell_type": "markdown",
      "source": "## **데이터 전처리**  \n\n현재 '사고일시', '시군구', '도로형태' 컬럼은 반복되는 패턴으로 여러 정보를 포함하고 있습니다\n이런 반복되는 패턴을 일반화하면 pandas에서 제공하는 str.extract를 통해 한 번에 추출 가능합니다  \n\n## **파생 변수 생성 1 : 날짜, 시간정보 생성**\n\n'사고일시' 컬럼으로 부터 연도, 월, 일, 시간 정보 추출 및 변환 합니다",
      "metadata": {
        "step_id": 5168,
        "step_number": 2,
        "pbl_cell_type": "markdown",
        "trusted": true
      }
    },
    {
      "cell_type": "code",
      "source": "train_df = train_org.copy()\ntest_df = test_org.copy()\n\ntime_pattern = r'(\\d{4})-(\\d{1,2})-(\\d{1,2}) (\\d{1,2})' \n\ntrain_df[['연', '월', '일', '시간']] = train_org['사고일시'].str.extract(time_pattern)\ntrain_df[['연', '월', '일', '시간']] = train_df[['연', '월', '일', '시간']].apply(pd.to_numeric) # 추출된 문자열을 수치화해줍니다 \ntrain_df = train_df.drop(columns=['사고일시']) # 정보 추출이 완료된 '사고일시' 컬럼은 제거합니다 \n\n# 해당 과정을 test_x에 대해서도 반복해줍니다 \ntest_df[['연', '월', '일', '시간']] = test_org['사고일시'].str.extract(time_pattern)\ntest_df[['연', '월', '일', '시간']] = test_df[['연', '월', '일', '시간']].apply(pd.to_numeric)\ntest_df = test_df.drop(columns=['사고일시'])\n\ndisplay(f\"columns of train_df : {train_df.columns}\")\ndisplay(f\"columns of test_df : {test_df.columns}\")",
      "metadata": {
        "step_id": 5168,
        "step_number": 2,
        "pbl_cell_type": "code",
        "trusted": true
      },
      "execution_count": 46,
      "outputs": [
        {
          "output_type": "display_data",
          "data": {
            "text/plain": "\"columns of train_df : Index(['ID', '요일', '기상상태', '시군구', '도로형태', '노면상태', '사고유형', '사고유형 - 세부분류',\\n       '법규위반', '가해운전자 차종', '가해운전자 성별', '가해운전자 연령', '가해운전자 상해정도', '피해운전자 차종',\\n       '피해운전자 성별', '피해운전자 연령', '피해운전자 상해정도', '사망자수', '중상자수', '경상자수', '부상자수',\\n       'ECLO', '연', '월', '일', '시간'],\\n      dtype='object')\""
          },
          "metadata": {}
        },
        {
          "output_type": "display_data",
          "data": {
            "text/plain": "\"columns of test_df : Index(['ID', '요일', '기상상태', '시군구', '도로형태', '노면상태', '사고유형', '연', '월', '일', '시간'], dtype='object')\""
          },
          "metadata": {}
        }
      ]
    },
    {
      "cell_type": "markdown",
      "source": "## **파생 변수 생성 2 : 공간(위치) 정보 생성** \n\n'시군구' 컬럼으로부터 의미 있는 공산 정보를 추출 및 변환 합니다",
      "metadata": {
        "step_id": 5169,
        "step_number": 3,
        "pbl_cell_type": "markdown",
        "trusted": true
      }
    },
    {
      "cell_type": "code",
      "source": "location_pattern = r'(\\S+) (\\S+) (\\S+)'\n\ntrain_df[['도시', '구', '동']] = train_org['시군구'].str.extract(location_pattern)\ntrain_df = train_df.drop(columns=['시군구'])\n\ntest_df[['도시', '구', '동']] = test_org['시군구'].str.extract(location_pattern)\ntest_df = test_df.drop(columns=['시군구'])\n\ndisplay(f\"columns of train_df : {train_df.columns}\")\ndisplay(f\"columns of test_df : {test_df.columns}\")",
      "metadata": {
        "step_id": 5169,
        "step_number": 3,
        "pbl_cell_type": "code",
        "trusted": true
      },
      "execution_count": 47,
      "outputs": [
        {
          "output_type": "display_data",
          "data": {
            "text/plain": "\"columns of train_df : Index(['ID', '요일', '기상상태', '도로형태', '노면상태', '사고유형', '사고유형 - 세부분류', '법규위반',\\n       '가해운전자 차종', '가해운전자 성별', '가해운전자 연령', '가해운전자 상해정도', '피해운전자 차종',\\n       '피해운전자 성별', '피해운전자 연령', '피해운전자 상해정도', '사망자수', '중상자수', '경상자수', '부상자수',\\n       'ECLO', '연', '월', '일', '시간', '도시', '구', '동'],\\n      dtype='object')\""
          },
          "metadata": {}
        },
        {
          "output_type": "display_data",
          "data": {
            "text/plain": "\"columns of test_df : Index(['ID', '요일', '기상상태', '도로형태', '노면상태', '사고유형', '연', '월', '일', '시간', '도시',\\n       '구', '동'],\\n      dtype='object')\""
          },
          "metadata": {}
        }
      ]
    },
    {
      "cell_type": "markdown",
      "source": "## **파생 변수 추출 3 : 도로 형태 정보 추출**  \n\n'도로형태' 컬럼은 '단일로 - 기타'와 같은 패턴으로 구성되어 있습니다. 이를 두종류의 독립된 정보로 보고 두개의 컬럼으로 분리하여 생성합니다.",
      "metadata": {
        "step_id": 5170,
        "step_number": 4,
        "pbl_cell_type": "markdown",
        "trusted": true
      }
    },
    {
      "cell_type": "code",
      "source": "road_pattern = r'(.+) - (.+)'\n\ntrain_df[['도로형태1', '도로형태2']] = train_org['도로형태'].str.extract(road_pattern)\ntrain_df = train_df.drop(columns=['도로형태'])\n\ntest_df[['도로형태1', '도로형태2']] = test_org['도로형태'].str.extract(road_pattern)\ntest_df = test_df.drop(columns=['도로형태'])\n\ndisplay(f\"columns of train_df : {train_df.columns}\")\ndisplay(f\"columns of test_df : {test_df.columns}\")",
      "metadata": {
        "step_id": 5170,
        "step_number": 4,
        "pbl_cell_type": "code",
        "trusted": true
      },
      "execution_count": 49,
      "outputs": [
        {
          "output_type": "display_data",
          "data": {
            "text/plain": "\"columns of train_df : Index(['ID', '요일', '기상상태', '노면상태', '사고유형', '사고유형 - 세부분류', '법규위반', '가해운전자 차종',\\n       '가해운전자 성별', '가해운전자 연령', '가해운전자 상해정도', '피해운전자 차종', '피해운전자 성별',\\n       '피해운전자 연령', '피해운전자 상해정도', '사망자수', '중상자수', '경상자수', '부상자수', 'ECLO', '연',\\n       '월', '일', '시간', '도시', '구', '동', '도로형태1', '도로형태2'],\\n      dtype='object')\""
          },
          "metadata": {}
        },
        {
          "output_type": "display_data",
          "data": {
            "text/plain": "\"columns of test_df : Index(['ID', '요일', '기상상태', '노면상태', '사고유형', '연', '월', '일', '시간', '도시', '구', '동',\\n       '도로형태1', '도로형태2'],\\n      dtype='object')\""
          },
          "metadata": {}
        }
      ]
    },
    {
      "cell_type": "markdown",
      "source": "## **전처리 결과 확인**\n\n지금까지 전처리한 결과를 확인해 봅시다 ",
      "metadata": {
        "step_id": 5171,
        "step_number": 5,
        "pbl_cell_type": "markdown",
        "trusted": true
      }
    },
    {
      "cell_type": "code",
      "source": "display(train_df.head())\ndisplay(test_df.head())",
      "metadata": {
        "step_id": 5171,
        "step_number": 5,
        "pbl_cell_type": "code",
        "trusted": true
      },
      "execution_count": 50,
      "outputs": [
        {
          "output_type": "display_data",
          "data": {
            "text/plain": "               ID   요일 기상상태 노면상태  사고유형 사고유형 - 세부분류     법규위반 가해운전자 차종 가해운전자 성별  \\\n0  ACCIDENT_00000  화요일   맑음   건조  차대사람  길가장자리구역통행중  안전운전불이행       승용        여   \n1  ACCIDENT_00001  화요일   흐림   건조  차대사람       보도통행중       기타       승용        남   \n2  ACCIDENT_00002  화요일   맑음   건조  차대사람       차도통행중  안전운전불이행       승용        남   \n3  ACCIDENT_00003  화요일   맑음   건조   차대차          추돌  안전운전불이행       승용        남   \n4  ACCIDENT_00004  화요일   맑음   건조   차대차          추돌  안전운전불이행       승용        남   \n\n  가해운전자 연령  ... ECLO     연  월  일 시간     도시    구    동  도로형태1  도로형태2  \n0      51세  ...    5  2019  1  1  0  대구광역시   중구  대신동    단일로     기타  \n1      39세  ...    3  2019  1  1  0  대구광역시  달서구  감삼동    단일로     기타  \n2      70세  ...    3  2019  1  1  1  대구광역시  수성구  두산동    단일로     기타  \n3      49세  ...    5  2019  1  1  2  대구광역시   북구  복현동    단일로     기타  \n4      30세  ...    3  2019  1  1  4  대구광역시   동구  신암동    단일로     기타  \n\n[5 rows x 29 columns]",
            "text/html": "<div>\n<style scoped>\n    .dataframe tbody tr th:only-of-type {\n        vertical-align: middle;\n    }\n\n    .dataframe tbody tr th {\n        vertical-align: top;\n    }\n\n    .dataframe thead th {\n        text-align: right;\n    }\n</style>\n<table border=\"1\" class=\"dataframe\">\n  <thead>\n    <tr style=\"text-align: right;\">\n      <th></th>\n      <th>ID</th>\n      <th>요일</th>\n      <th>기상상태</th>\n      <th>노면상태</th>\n      <th>사고유형</th>\n      <th>사고유형 - 세부분류</th>\n      <th>법규위반</th>\n      <th>가해운전자 차종</th>\n      <th>가해운전자 성별</th>\n      <th>가해운전자 연령</th>\n      <th>...</th>\n      <th>ECLO</th>\n      <th>연</th>\n      <th>월</th>\n      <th>일</th>\n      <th>시간</th>\n      <th>도시</th>\n      <th>구</th>\n      <th>동</th>\n      <th>도로형태1</th>\n      <th>도로형태2</th>\n    </tr>\n  </thead>\n  <tbody>\n    <tr>\n      <th>0</th>\n      <td>ACCIDENT_00000</td>\n      <td>화요일</td>\n      <td>맑음</td>\n      <td>건조</td>\n      <td>차대사람</td>\n      <td>길가장자리구역통행중</td>\n      <td>안전운전불이행</td>\n      <td>승용</td>\n      <td>여</td>\n      <td>51세</td>\n      <td>...</td>\n      <td>5</td>\n      <td>2019</td>\n      <td>1</td>\n      <td>1</td>\n      <td>0</td>\n      <td>대구광역시</td>\n      <td>중구</td>\n      <td>대신동</td>\n      <td>단일로</td>\n      <td>기타</td>\n    </tr>\n    <tr>\n      <th>1</th>\n      <td>ACCIDENT_00001</td>\n      <td>화요일</td>\n      <td>흐림</td>\n      <td>건조</td>\n      <td>차대사람</td>\n      <td>보도통행중</td>\n      <td>기타</td>\n      <td>승용</td>\n      <td>남</td>\n      <td>39세</td>\n      <td>...</td>\n      <td>3</td>\n      <td>2019</td>\n      <td>1</td>\n      <td>1</td>\n      <td>0</td>\n      <td>대구광역시</td>\n      <td>달서구</td>\n      <td>감삼동</td>\n      <td>단일로</td>\n      <td>기타</td>\n    </tr>\n    <tr>\n      <th>2</th>\n      <td>ACCIDENT_00002</td>\n      <td>화요일</td>\n      <td>맑음</td>\n      <td>건조</td>\n      <td>차대사람</td>\n      <td>차도통행중</td>\n      <td>안전운전불이행</td>\n      <td>승용</td>\n      <td>남</td>\n      <td>70세</td>\n      <td>...</td>\n      <td>3</td>\n      <td>2019</td>\n      <td>1</td>\n      <td>1</td>\n      <td>1</td>\n      <td>대구광역시</td>\n      <td>수성구</td>\n      <td>두산동</td>\n      <td>단일로</td>\n      <td>기타</td>\n    </tr>\n    <tr>\n      <th>3</th>\n      <td>ACCIDENT_00003</td>\n      <td>화요일</td>\n      <td>맑음</td>\n      <td>건조</td>\n      <td>차대차</td>\n      <td>추돌</td>\n      <td>안전운전불이행</td>\n      <td>승용</td>\n      <td>남</td>\n      <td>49세</td>\n      <td>...</td>\n      <td>5</td>\n      <td>2019</td>\n      <td>1</td>\n      <td>1</td>\n      <td>2</td>\n      <td>대구광역시</td>\n      <td>북구</td>\n      <td>복현동</td>\n      <td>단일로</td>\n      <td>기타</td>\n    </tr>\n    <tr>\n      <th>4</th>\n      <td>ACCIDENT_00004</td>\n      <td>화요일</td>\n      <td>맑음</td>\n      <td>건조</td>\n      <td>차대차</td>\n      <td>추돌</td>\n      <td>안전운전불이행</td>\n      <td>승용</td>\n      <td>남</td>\n      <td>30세</td>\n      <td>...</td>\n      <td>3</td>\n      <td>2019</td>\n      <td>1</td>\n      <td>1</td>\n      <td>4</td>\n      <td>대구광역시</td>\n      <td>동구</td>\n      <td>신암동</td>\n      <td>단일로</td>\n      <td>기타</td>\n    </tr>\n  </tbody>\n</table>\n<p>5 rows × 29 columns</p>\n</div>"
          },
          "metadata": {}
        },
        {
          "output_type": "display_data",
          "data": {
            "text/plain": "               ID   요일 기상상태 노면상태  사고유형     연  월  일  시간     도시    구      동  \\\n0  ACCIDENT_39609  토요일   맑음   건조  차대사람  2022  1  1   1  대구광역시  수성구     상동   \n1  ACCIDENT_39610  토요일   맑음   건조  차대사람  2022  1  1   1  대구광역시  수성구    지산동   \n2  ACCIDENT_39611  토요일   맑음   건조   차대차  2022  1  1   4  대구광역시  수성구  수성동2가   \n3  ACCIDENT_39612  토요일   맑음   건조   차대차  2022  1  1   4  대구광역시  수성구    신매동   \n4  ACCIDENT_39613  토요일   맑음   건조   차대차  2022  1  1   6  대구광역시  달서구    감삼동   \n\n  도로형태1 도로형태2  \n0   교차로  교차로안  \n1   단일로    기타  \n2   교차로  교차로안  \n3   단일로    기타  \n4   교차로  교차로안  ",
            "text/html": "<div>\n<style scoped>\n    .dataframe tbody tr th:only-of-type {\n        vertical-align: middle;\n    }\n\n    .dataframe tbody tr th {\n        vertical-align: top;\n    }\n\n    .dataframe thead th {\n        text-align: right;\n    }\n</style>\n<table border=\"1\" class=\"dataframe\">\n  <thead>\n    <tr style=\"text-align: right;\">\n      <th></th>\n      <th>ID</th>\n      <th>요일</th>\n      <th>기상상태</th>\n      <th>노면상태</th>\n      <th>사고유형</th>\n      <th>연</th>\n      <th>월</th>\n      <th>일</th>\n      <th>시간</th>\n      <th>도시</th>\n      <th>구</th>\n      <th>동</th>\n      <th>도로형태1</th>\n      <th>도로형태2</th>\n    </tr>\n  </thead>\n  <tbody>\n    <tr>\n      <th>0</th>\n      <td>ACCIDENT_39609</td>\n      <td>토요일</td>\n      <td>맑음</td>\n      <td>건조</td>\n      <td>차대사람</td>\n      <td>2022</td>\n      <td>1</td>\n      <td>1</td>\n      <td>1</td>\n      <td>대구광역시</td>\n      <td>수성구</td>\n      <td>상동</td>\n      <td>교차로</td>\n      <td>교차로안</td>\n    </tr>\n    <tr>\n      <th>1</th>\n      <td>ACCIDENT_39610</td>\n      <td>토요일</td>\n      <td>맑음</td>\n      <td>건조</td>\n      <td>차대사람</td>\n      <td>2022</td>\n      <td>1</td>\n      <td>1</td>\n      <td>1</td>\n      <td>대구광역시</td>\n      <td>수성구</td>\n      <td>지산동</td>\n      <td>단일로</td>\n      <td>기타</td>\n    </tr>\n    <tr>\n      <th>2</th>\n      <td>ACCIDENT_39611</td>\n      <td>토요일</td>\n      <td>맑음</td>\n      <td>건조</td>\n      <td>차대차</td>\n      <td>2022</td>\n      <td>1</td>\n      <td>1</td>\n      <td>4</td>\n      <td>대구광역시</td>\n      <td>수성구</td>\n      <td>수성동2가</td>\n      <td>교차로</td>\n      <td>교차로안</td>\n    </tr>\n    <tr>\n      <th>3</th>\n      <td>ACCIDENT_39612</td>\n      <td>토요일</td>\n      <td>맑음</td>\n      <td>건조</td>\n      <td>차대차</td>\n      <td>2022</td>\n      <td>1</td>\n      <td>1</td>\n      <td>4</td>\n      <td>대구광역시</td>\n      <td>수성구</td>\n      <td>신매동</td>\n      <td>단일로</td>\n      <td>기타</td>\n    </tr>\n    <tr>\n      <th>4</th>\n      <td>ACCIDENT_39613</td>\n      <td>토요일</td>\n      <td>맑음</td>\n      <td>건조</td>\n      <td>차대차</td>\n      <td>2022</td>\n      <td>1</td>\n      <td>1</td>\n      <td>6</td>\n      <td>대구광역시</td>\n      <td>달서구</td>\n      <td>감삼동</td>\n      <td>교차로</td>\n      <td>교차로안</td>\n    </tr>\n  </tbody>\n</table>\n</div>"
          },
          "metadata": {}
        }
      ]
    },
    {
      "cell_type": "markdown",
      "source": "## **train, test 데이터의 독립변수, 종속 변수 분리**\n\n모델 추론 시점에서 획득할 수 있는 데이터는 학습 시점에서 활용할 수 있는 데이터와 다를 수 있습니다  \n그렇기에 본 baseline에서는 test 시점에서만 활용할 수 있는 데이터들(test의 column들)만 사용하여 train 데이터를 구성했습니다 \n\ntrain_df 중에서 test_x가 가진 column들만 추출하여 train_x(독립변수)를 구성하고, train_df 중에서 예측 목표인 EPDO를 추출하여 train_y(종속변수)를 구성합니다",
      "metadata": {
        "step_id": 5173,
        "step_number": 7,
        "pbl_cell_type": "markdown",
        "trusted": true
      }
    },
    {
      "cell_type": "code",
      "source": "test_x = test_df.drop(columns=['ID']).copy()\ntrain_x = train_df[test_x.columns].copy()\ntrain_y = train_df['ECLO'].copy()",
      "metadata": {
        "step_id": 5173,
        "step_number": 7,
        "pbl_cell_type": "code",
        "trusted": true
      },
      "execution_count": 54,
      "outputs": []
    },
    {
      "cell_type": "markdown",
      "source": "## **범주형(Categorical) 변수, 수치형 변수로 변환하기**\n\n모델 학습을 위해 train_x의 문자열 타입의 컬럼들을 추출하고, LabelEncoder를 활용하여 이 컬럼들을 모두 수치형 변수로 변환해 보겠습니다",
      "metadata": {
        "step_id": 5174,
        "step_number": 8,
        "pbl_cell_type": "markdown",
        "trusted": true
      }
    },
    {
      "cell_type": "code",
      "source": "from sklearn.preprocessing import LabelEncoder\n\ncategorical_features = list(train_x.dtypes[train_x.dtypes == \"object\"].index)\n# 추출된 문자열 변수 확인\ndisplay(categorical_features)\n\nfor i in categorical_features:\n    le = LabelEncoder()\n    le=le.fit(train_x[i]) \n    train_x[i]=le.transform(train_x[i])\n    \n    for case in np.unique(test_x[i]):\n        if case not in le.classes_: \n            le.classes_ = np.append(le.classes_, case) \n    test_x[i]=le.transform(test_x[i])\n    \ndisplay(train_x.head())\ndisplay(test_x.head())",
      "metadata": {
        "step_id": 5174,
        "step_number": 8,
        "pbl_cell_type": "code",
        "trusted": true
      },
      "execution_count": 55,
      "outputs": [
        {
          "output_type": "display_data",
          "data": {
            "text/plain": "['요일', '기상상태', '노면상태', '사고유형', '도시', '구', '동', '도로형태1', '도로형태2']"
          },
          "metadata": {}
        },
        {
          "output_type": "display_data",
          "data": {
            "text/plain": "   요일  기상상태  노면상태  사고유형     연  월  일  시간  도시  구    동  도로형태1  도로형태2\n0   6     2     0     0  2019  1  1   0   0  7   40      2      5\n1   6     5     0     0  2019  1  1   0   0  1    4      2      5\n2   6     2     0     0  2019  1  1   1   0  6   66      2      5\n3   6     2     0     1  2019  1  1   2   0  4   79      2      5\n4   6     2     0     1  2019  1  1   4   0  3  129      2      5",
            "text/html": "<div>\n<style scoped>\n    .dataframe tbody tr th:only-of-type {\n        vertical-align: middle;\n    }\n\n    .dataframe tbody tr th {\n        vertical-align: top;\n    }\n\n    .dataframe thead th {\n        text-align: right;\n    }\n</style>\n<table border=\"1\" class=\"dataframe\">\n  <thead>\n    <tr style=\"text-align: right;\">\n      <th></th>\n      <th>요일</th>\n      <th>기상상태</th>\n      <th>노면상태</th>\n      <th>사고유형</th>\n      <th>연</th>\n      <th>월</th>\n      <th>일</th>\n      <th>시간</th>\n      <th>도시</th>\n      <th>구</th>\n      <th>동</th>\n      <th>도로형태1</th>\n      <th>도로형태2</th>\n    </tr>\n  </thead>\n  <tbody>\n    <tr>\n      <th>0</th>\n      <td>6</td>\n      <td>2</td>\n      <td>0</td>\n      <td>0</td>\n      <td>2019</td>\n      <td>1</td>\n      <td>1</td>\n      <td>0</td>\n      <td>0</td>\n      <td>7</td>\n      <td>40</td>\n      <td>2</td>\n      <td>5</td>\n    </tr>\n    <tr>\n      <th>1</th>\n      <td>6</td>\n      <td>5</td>\n      <td>0</td>\n      <td>0</td>\n      <td>2019</td>\n      <td>1</td>\n      <td>1</td>\n      <td>0</td>\n      <td>0</td>\n      <td>1</td>\n      <td>4</td>\n      <td>2</td>\n      <td>5</td>\n    </tr>\n    <tr>\n      <th>2</th>\n      <td>6</td>\n      <td>2</td>\n      <td>0</td>\n      <td>0</td>\n      <td>2019</td>\n      <td>1</td>\n      <td>1</td>\n      <td>1</td>\n      <td>0</td>\n      <td>6</td>\n      <td>66</td>\n      <td>2</td>\n      <td>5</td>\n    </tr>\n    <tr>\n      <th>3</th>\n      <td>6</td>\n      <td>2</td>\n      <td>0</td>\n      <td>1</td>\n      <td>2019</td>\n      <td>1</td>\n      <td>1</td>\n      <td>2</td>\n      <td>0</td>\n      <td>4</td>\n      <td>79</td>\n      <td>2</td>\n      <td>5</td>\n    </tr>\n    <tr>\n      <th>4</th>\n      <td>6</td>\n      <td>2</td>\n      <td>0</td>\n      <td>1</td>\n      <td>2019</td>\n      <td>1</td>\n      <td>1</td>\n      <td>4</td>\n      <td>0</td>\n      <td>3</td>\n      <td>129</td>\n      <td>2</td>\n      <td>5</td>\n    </tr>\n  </tbody>\n</table>\n</div>"
          },
          "metadata": {}
        },
        {
          "output_type": "display_data",
          "data": {
            "text/plain": "   요일  기상상태  노면상태  사고유형     연  월  일  시간  도시  구    동  도로형태1  도로형태2\n0   5     2     0     0  2022  1  1   1   0  6   99      0      3\n1   5     2     0     0  2022  1  1   1   0  6  168      2      5\n2   5     2     0     1  2022  1  1   4   0  6  117      0      3\n3   5     2     0     1  2022  1  1   4   0  6  126      2      5\n4   5     2     0     1  2022  1  1   6   0  1    4      0      3",
            "text/html": "<div>\n<style scoped>\n    .dataframe tbody tr th:only-of-type {\n        vertical-align: middle;\n    }\n\n    .dataframe tbody tr th {\n        vertical-align: top;\n    }\n\n    .dataframe thead th {\n        text-align: right;\n    }\n</style>\n<table border=\"1\" class=\"dataframe\">\n  <thead>\n    <tr style=\"text-align: right;\">\n      <th></th>\n      <th>요일</th>\n      <th>기상상태</th>\n      <th>노면상태</th>\n      <th>사고유형</th>\n      <th>연</th>\n      <th>월</th>\n      <th>일</th>\n      <th>시간</th>\n      <th>도시</th>\n      <th>구</th>\n      <th>동</th>\n      <th>도로형태1</th>\n      <th>도로형태2</th>\n    </tr>\n  </thead>\n  <tbody>\n    <tr>\n      <th>0</th>\n      <td>5</td>\n      <td>2</td>\n      <td>0</td>\n      <td>0</td>\n      <td>2022</td>\n      <td>1</td>\n      <td>1</td>\n      <td>1</td>\n      <td>0</td>\n      <td>6</td>\n      <td>99</td>\n      <td>0</td>\n      <td>3</td>\n    </tr>\n    <tr>\n      <th>1</th>\n      <td>5</td>\n      <td>2</td>\n      <td>0</td>\n      <td>0</td>\n      <td>2022</td>\n      <td>1</td>\n      <td>1</td>\n      <td>1</td>\n      <td>0</td>\n      <td>6</td>\n      <td>168</td>\n      <td>2</td>\n      <td>5</td>\n    </tr>\n    <tr>\n      <th>2</th>\n      <td>5</td>\n      <td>2</td>\n      <td>0</td>\n      <td>1</td>\n      <td>2022</td>\n      <td>1</td>\n      <td>1</td>\n      <td>4</td>\n      <td>0</td>\n      <td>6</td>\n      <td>117</td>\n      <td>0</td>\n      <td>3</td>\n    </tr>\n    <tr>\n      <th>3</th>\n      <td>5</td>\n      <td>2</td>\n      <td>0</td>\n      <td>1</td>\n      <td>2022</td>\n      <td>1</td>\n      <td>1</td>\n      <td>4</td>\n      <td>0</td>\n      <td>6</td>\n      <td>126</td>\n      <td>2</td>\n      <td>5</td>\n    </tr>\n    <tr>\n      <th>4</th>\n      <td>5</td>\n      <td>2</td>\n      <td>0</td>\n      <td>1</td>\n      <td>2022</td>\n      <td>1</td>\n      <td>1</td>\n      <td>6</td>\n      <td>0</td>\n      <td>1</td>\n      <td>4</td>\n      <td>0</td>\n      <td>3</td>\n    </tr>\n  </tbody>\n</table>\n</div>"
          },
          "metadata": {}
        }
      ]
    },
    {
      "cell_type": "markdown",
      "source": "## **Model Train & Prediction** \n\n전체 학습 데이터에 대하여 학습후 최종 예측을 합니다. 여기서는 DecisionTreeRegressor 모델로 학습하고 예측하는 예시 코드입니다.",
      "metadata": {
        "step_id": 5176,
        "step_number": 10,
        "pbl_cell_type": "markdown",
        "trusted": true
      }
    },
    {
      "cell_type": "code",
      "source": "from sklearn.tree import DecisionTreeRegressor\nmodel = DecisionTreeRegressor() \nmodel.fit(train_x, train_y)\n\nprediction = model.predict(test_x)\nprediction",
      "metadata": {
        "step_id": 5176,
        "step_number": 10,
        "pbl_cell_type": "code",
        "trusted": true
      },
      "execution_count": 60,
      "outputs": [
        {
          "execution_count": 60,
          "output_type": "execute_result",
          "data": {
            "text/plain": "array([15.,  5., 18., ...,  6.,  1.,  3.])"
          },
          "metadata": {}
        }
      ]
    },
    {
      "cell_type": "markdown",
      "source": "## **Submission 양식 확인**\n\nsample_submission.csv 화일 데이터(sample_submission)를 그대로 복사한 후, \n양식의 'ECLO' 컬럼에 test_x에 대한 ECLO(y) 예측값을 입력합니다 ",
      "metadata": {
        "step_id": 5178,
        "step_number": 12,
        "pbl_cell_type": "markdown",
        "trusted": true
      }
    },
    {
      "cell_type": "code",
      "source": "baseline_submission = sample_submission.copy()\nbaseline_submission['ECLO'] = prediction\nbaseline_submission ",
      "metadata": {
        "step_id": 5178,
        "step_number": 12,
        "pbl_cell_type": "code",
        "trusted": true
      },
      "execution_count": 62,
      "outputs": [
        {
          "execution_count": 62,
          "output_type": "execute_result",
          "data": {
            "text/plain": "                   ID  ECLO\n0      ACCIDENT_39609  15.0\n1      ACCIDENT_39610   5.0\n2      ACCIDENT_39611  18.0\n3      ACCIDENT_39612  12.0\n4      ACCIDENT_39613   3.0\n...               ...   ...\n10958  ACCIDENT_50567   1.0\n10959  ACCIDENT_50568   9.0\n10960  ACCIDENT_50569   6.0\n10961  ACCIDENT_50570   1.0\n10962  ACCIDENT_50571   3.0\n\n[10963 rows x 2 columns]",
            "text/html": "<div>\n<style scoped>\n    .dataframe tbody tr th:only-of-type {\n        vertical-align: middle;\n    }\n\n    .dataframe tbody tr th {\n        vertical-align: top;\n    }\n\n    .dataframe thead th {\n        text-align: right;\n    }\n</style>\n<table border=\"1\" class=\"dataframe\">\n  <thead>\n    <tr style=\"text-align: right;\">\n      <th></th>\n      <th>ID</th>\n      <th>ECLO</th>\n    </tr>\n  </thead>\n  <tbody>\n    <tr>\n      <th>0</th>\n      <td>ACCIDENT_39609</td>\n      <td>15.0</td>\n    </tr>\n    <tr>\n      <th>1</th>\n      <td>ACCIDENT_39610</td>\n      <td>5.0</td>\n    </tr>\n    <tr>\n      <th>2</th>\n      <td>ACCIDENT_39611</td>\n      <td>18.0</td>\n    </tr>\n    <tr>\n      <th>3</th>\n      <td>ACCIDENT_39612</td>\n      <td>12.0</td>\n    </tr>\n    <tr>\n      <th>4</th>\n      <td>ACCIDENT_39613</td>\n      <td>3.0</td>\n    </tr>\n    <tr>\n      <th>...</th>\n      <td>...</td>\n      <td>...</td>\n    </tr>\n    <tr>\n      <th>10958</th>\n      <td>ACCIDENT_50567</td>\n      <td>1.0</td>\n    </tr>\n    <tr>\n      <th>10959</th>\n      <td>ACCIDENT_50568</td>\n      <td>9.0</td>\n    </tr>\n    <tr>\n      <th>10960</th>\n      <td>ACCIDENT_50569</td>\n      <td>6.0</td>\n    </tr>\n    <tr>\n      <th>10961</th>\n      <td>ACCIDENT_50570</td>\n      <td>1.0</td>\n    </tr>\n    <tr>\n      <th>10962</th>\n      <td>ACCIDENT_50571</td>\n      <td>3.0</td>\n    </tr>\n  </tbody>\n</table>\n<p>10963 rows × 2 columns</p>\n</div>"
          },
          "metadata": {}
        }
      ]
    },
    {
      "cell_type": "markdown",
      "source": "## **답안지 저장 및 제출하기**",
      "metadata": {
        "step_id": 5178,
        "step_number": 12,
        "pbl_cell_type": "markdown",
        "trusted": true
      }
    },
    {
      "cell_type": "code",
      "source": "baseline_submission.to_csv('baseline_submit.csv', index=False)",
      "metadata": {
        "step_id": 5178,
        "step_number": 12,
        "pbl_cell_type": "code",
        "trusted": true
      },
      "execution_count": 63,
      "outputs": []
    }
  ]
}